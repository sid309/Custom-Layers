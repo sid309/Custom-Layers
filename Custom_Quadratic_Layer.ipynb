{
  "nbformat": 4,
  "nbformat_minor": 0,
  "metadata": {
    "colab": {
      "name": "Custom Quadratic Layer.ipynb",
      "provenance": []
    },
    "kernelspec": {
      "name": "python3",
      "display_name": "Python 3"
    },
    "language_info": {
      "name": "python"
    }
  },
  "cells": [
    {
      "cell_type": "code",
      "metadata": {
        "id": "rE6cBSZyR0L5"
      },
      "source": [
        "import tensorflow as tf\n",
        "from tensorflow import keras\n",
        "from tensorflow.keras.layers import Layer"
      ],
      "execution_count": 11,
      "outputs": []
    },
    {
      "cell_type": "code",
      "metadata": {
        "id": "Ywg6cFBgcw90"
      },
      "source": [
        "class Quad_layer(Layer):\n",
        "  def __init__(self,units=32,activation=None):\n",
        "    super(Quad_layer,self).__init__()\n",
        "    self.units=units\n",
        "    self.activation=tf.keras.activations.get(activation)\n",
        "  def build(self,input_shape):\n",
        "    init_a=tf.random_normal_initializer()\n",
        "    init_b=tf.random_normal_initializer()\n",
        "    init_c=tf.zeros_initializer()\n",
        "    self.a=tf.Variable(name='kernel',trainable=True,initial_value=init_a(shape=(input_shape[-1],self.units),dtype='float32'))\n",
        "    self.b=tf.Variable(name='kernel',trainable=True,initial_value=init_b(shape=(input_shape[-1],self.units),dtype='float32'))\n",
        "    self.c=tf.Variable(name='bias',trainable=True,initial_value=init_c(shape=(self.units,),dtype='float32'))\n",
        "    super().build(input_shape)\n",
        "  def call(self,inputs):\n",
        "    result = tf.matmul(tf.math.square(inputs), self.a) + tf.matmul(inputs, self.b) + self.c\n",
        "    return self.activation(result)"
      ],
      "execution_count": 15,
      "outputs": []
    },
    {
      "cell_type": "code",
      "metadata": {
        "id": "mmhZo_-UeTv5"
      },
      "source": [
        "mnist = tf.keras.datasets.mnist\n",
        "(x_train, y_train),(x_test, y_test) = mnist.load_data()\n",
        "x_train, x_test = x_train / 255.0, x_test / 255.0"
      ],
      "execution_count": 16,
      "outputs": []
    },
    {
      "cell_type": "code",
      "metadata": {
        "id": "YU_QqENJeXlS"
      },
      "source": [
        "model = tf.keras.models.Sequential([\n",
        "  tf.keras.layers.Flatten(input_shape=(28, 28)),\n",
        "  Quad_layer(128, activation='relu'),\n",
        "  tf.keras.layers.Dropout(0.2),\n",
        "  tf.keras.layers.Dense(10, activation='softmax')\n",
        "])"
      ],
      "execution_count": 17,
      "outputs": []
    },
    {
      "cell_type": "code",
      "metadata": {
        "colab": {
          "base_uri": "https://localhost:8080/"
        },
        "id": "gvMY0f1medjj",
        "outputId": "9cb2e721-7f5c-4535-9454-ed554ccd4725"
      },
      "source": [
        "model.compile(optimizer='adam',\n",
        "              loss='sparse_categorical_crossentropy',\n",
        "              metrics=['accuracy'])\n",
        "\n",
        "model.fit(x_train, y_train, epochs=5)\n",
        "model.evaluate(x_test, y_test)"
      ],
      "execution_count": 18,
      "outputs": [
        {
          "output_type": "stream",
          "text": [
            "Epoch 1/5\n",
            "1875/1875 [==============================] - 7s 3ms/step - loss: 0.2819 - accuracy: 0.9168\n",
            "Epoch 2/5\n",
            "1875/1875 [==============================] - 6s 3ms/step - loss: 0.1383 - accuracy: 0.9588\n",
            "Epoch 3/5\n",
            "1875/1875 [==============================] - 6s 3ms/step - loss: 0.1060 - accuracy: 0.9670\n",
            "Epoch 4/5\n",
            "1875/1875 [==============================] - 6s 3ms/step - loss: 0.0855 - accuracy: 0.9734\n",
            "Epoch 5/5\n",
            "1875/1875 [==============================] - 6s 3ms/step - loss: 0.0718 - accuracy: 0.9773\n",
            "313/313 [==============================] - 1s 2ms/step - loss: 0.0700 - accuracy: 0.9778\n"
          ],
          "name": "stdout"
        },
        {
          "output_type": "execute_result",
          "data": {
            "text/plain": [
              "[0.07003600150346756, 0.9778000116348267]"
            ]
          },
          "metadata": {},
          "execution_count": 18
        }
      ]
    },
    {
      "cell_type": "code",
      "metadata": {
        "id": "1VUbOcC3ej-L"
      },
      "source": [
        ""
      ],
      "execution_count": null,
      "outputs": []
    }
  ]
}