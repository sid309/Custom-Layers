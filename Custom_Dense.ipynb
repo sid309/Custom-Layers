{
  "nbformat": 4,
  "nbformat_minor": 0,
  "metadata": {
    "colab": {
      "name": "Custom Dense.ipynb",
      "provenance": []
    },
    "kernelspec": {
      "name": "python3",
      "display_name": "Python 3"
    },
    "language_info": {
      "name": "python"
    }
  },
  "cells": [
    {
      "cell_type": "code",
      "metadata": {
        "id": "boac7YpN_P8b"
      },
      "source": [
        "import numpy as np\n",
        "import tensorflow as tf"
      ],
      "execution_count": 1,
      "outputs": []
    },
    {
      "cell_type": "code",
      "metadata": {
        "id": "S5dzCox7_ZSM"
      },
      "source": [
        "class SimpleDense(tf.keras.layers.Layer):\n",
        "  def __init__(self,units):\n",
        "    super(SimpleDense,self).__init__()\n",
        "    self.units=units\n",
        "  def build(self,input_shape):\n",
        "    w_init=tf.random_normal_initializer()\n",
        "    b_init=tf.zeros_initializer()\n",
        "    self.w=tf.Variable(initial_value=w_init((input_shape[-1] , self.units)) , trainable=True , dtype=tf.float32 , name=\"kernal\")\n",
        "    self.b=tf.Variable(initial_value=b_init((input_shape[-1],)),trainable=True,dtype=tf.float32,name=\"bias\")\n",
        "  def call(self,inputs):\n",
        "    return tf.multiply(inputs,self.w)+self.b"
      ],
      "execution_count": 4,
      "outputs": []
    },
    {
      "cell_type": "code",
      "metadata": {
        "colab": {
          "base_uri": "https://localhost:8080/"
        },
        "id": "SQqlC8Y4A6z7",
        "outputId": "2c191f8b-df8a-4a04-d0de-1b56bb8a377a"
      },
      "source": [
        "dense = SimpleDense(units = 1)\n",
        "x = tf.zeros((1,1))\n",
        "y = dense(x)\n",
        "dense.variables"
      ],
      "execution_count": 5,
      "outputs": [
        {
          "output_type": "execute_result",
          "data": {
            "text/plain": [
              "[<tf.Variable 'simple_dense/kernal:0' shape=(1, 1) dtype=float32, numpy=array([[0.05046518]], dtype=float32)>,\n",
              " <tf.Variable 'simple_dense/bias:0' shape=(1,) dtype=float32, numpy=array([0.], dtype=float32)>]"
            ]
          },
          "metadata": {},
          "execution_count": 5
        }
      ]
    },
    {
      "cell_type": "code",
      "metadata": {
        "colab": {
          "base_uri": "https://localhost:8080/"
        },
        "id": "QRgoF-9kBDp4",
        "outputId": "6339604d-e85b-403e-9dbe-b2d0cc30069c"
      },
      "source": [
        "dense = SimpleDense(units = 4)\n",
        "x = tf.zeros((4,4))\n",
        "y = dense(x)\n",
        "dense.variables"
      ],
      "execution_count": 6,
      "outputs": [
        {
          "output_type": "execute_result",
          "data": {
            "text/plain": [
              "[<tf.Variable 'simple_dense_1/kernal:0' shape=(4, 4) dtype=float32, numpy=\n",
              " array([[ 0.04540147,  0.04287937,  0.06486972,  0.03352558],\n",
              "        [ 0.01578536,  0.04239776, -0.11028673, -0.04553744],\n",
              "        [ 0.00344011, -0.06033828, -0.04317795, -0.04349301],\n",
              "        [-0.05606748,  0.01587757, -0.02608586,  0.04008392]],\n",
              "       dtype=float32)>,\n",
              " <tf.Variable 'simple_dense_1/bias:0' shape=(4,) dtype=float32, numpy=array([0., 0., 0., 0.], dtype=float32)>]"
            ]
          },
          "metadata": {},
          "execution_count": 6
        }
      ]
    },
    {
      "cell_type": "code",
      "metadata": {
        "id": "ltWfzah3BFJJ"
      },
      "source": [
        ""
      ],
      "execution_count": null,
      "outputs": []
    }
  ]
}